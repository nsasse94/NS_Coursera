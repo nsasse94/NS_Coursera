{
 "cells": [
  {
   "cell_type": "markdown",
   "id": "7a5dbd9b-8c34-4b4b-87ad-988d39ce8326",
   "metadata": {},
   "source": [
    "# Data Science Tools and Ecosystem"
   ]
  },
  {
   "cell_type": "markdown",
   "id": "aefc909f-fb30-448d-9986-def46a68f74b",
   "metadata": {},
   "source": [
    "In this notebook, Data Science Tools and Ecosystem are summarized."
   ]
  },
  {
   "cell_type": "markdown",
   "id": "ef94a7d3-bb8c-4d7f-abeb-74efe749392f",
   "metadata": {},
   "source": [
    "### Objectives:"
   ]
  },
  {
   "cell_type": "markdown",
   "id": "ef78f393-4bc9-4cfc-9299-c737f75612ca",
   "metadata": {},
   "source": [
    "    - List popular languages for Data Science\n",
    "    - List commonly used languages for Data Scientists\n",
    "    - List development environment open source tools used in data science\n",
    "    - Evaluating simple arithmetic expressions"
   ]
  },
  {
   "cell_type": "markdown",
   "id": "4323dfc0-7a26-458a-9b4d-adf57d4c48e5",
   "metadata": {},
   "source": [
    "Some of the popular languages that Data Scientists use are:"
   ]
  },
  {
   "cell_type": "markdown",
   "id": "7afa2631-a0e4-4dd3-9bd2-daf496e8675a",
   "metadata": {},
   "source": [
    "1. Python\n",
    "2. R\n",
    "3. SQL\n",
    "4. Julia\n",
    "5. JavaScript\n",
    "6. Scala\n",
    "7. Java\n",
    "8. Go\n",
    "9. MATLAB\n",
    "10. C/C++"
   ]
  },
  {
   "cell_type": "markdown",
   "id": "194aa064-2a9f-4034-aee2-fbe78695ab85",
   "metadata": {},
   "source": [
    "Some of the commonly used libraries used by Data Scientists include:"
   ]
  },
  {
   "cell_type": "markdown",
   "id": "df74c80a-46c0-46b9-8163-8cba063e49d0",
   "metadata": {},
   "source": [
    "1. TensorFlow\n",
    "2. NumPy\n",
    "3. SciPy\n",
    "4. Pandas\n",
    "5. Matplotlib\n",
    "7. Keras\n",
    "8. SciKit-Learn\n",
    "9. PyTorch"
   ]
  },
  {
   "cell_type": "markdown",
   "id": "71ae0c99-4e5d-49f4-af06-439eae8a3e10",
   "metadata": {},
   "source": [
    "| Data Science Tools |\n",
    "| --- |\n",
    "| Apache Spark |\n",
    "| Apache Hadoop |\n",
    "| Algorithm.io. |\n",
    "| BigML |"
   ]
  },
  {
   "cell_type": "markdown",
   "id": "edf271e3-b2e1-4c2d-a751-111869e44939",
   "metadata": {},
   "source": [
    "### Below are a few examples of evaluating arithmetic expressions in Python"
   ]
  },
  {
   "cell_type": "markdown",
   "id": "011b6a71-8123-4e83-8d01-83c2c35ff309",
   "metadata": {},
   "source": [
    "This a simple arithmetic expression to mutiply then add integers"
   ]
  },
  {
   "cell_type": "code",
   "execution_count": 6,
   "id": "12785dba-7703-4cb3-be7f-6c7ae7a9361b",
   "metadata": {},
   "outputs": [
    {
     "data": {
      "text/plain": [
       "17"
      ]
     },
     "execution_count": 6,
     "metadata": {},
     "output_type": "execute_result"
    }
   ],
   "source": [
    "(3*4)+5"
   ]
  },
  {
   "cell_type": "markdown",
   "id": "86d37dc4-223a-4d59-83f6-647000ffb7cf",
   "metadata": {},
   "source": [
    "This will convert 200 minutes to hours by diving by 60"
   ]
  },
  {
   "cell_type": "code",
   "execution_count": 9,
   "id": "b07c49dd-ce3a-474c-94a0-3881e8465344",
   "metadata": {},
   "outputs": [
    {
     "data": {
      "text/plain": [
       "3.3333333333333335"
      ]
     },
     "execution_count": 9,
     "metadata": {},
     "output_type": "execute_result"
    }
   ],
   "source": [
    "200/60"
   ]
  },
  {
   "cell_type": "code",
   "execution_count": null,
   "id": "e0936514-9b16-4f24-b278-cb3f5295cad9",
   "metadata": {},
   "outputs": [],
   "source": []
  },
  {
   "cell_type": "markdown",
   "id": "98ce1748-595e-43f3-a023-3dba080f2e68",
   "metadata": {},
   "source": [
    "## Author"
   ]
  },
  {
   "cell_type": "markdown",
   "id": "a8f81b08-1ec8-4cf3-b604-0729f7d4933b",
   "metadata": {},
   "source": [
    "Nick Sasse"
   ]
  },
  {
   "cell_type": "code",
   "execution_count": null,
   "id": "e90bf75f-0bf1-4284-b7f5-5ddcd252011f",
   "metadata": {},
   "outputs": [],
   "source": []
  }
 ],
 "metadata": {
  "kernelspec": {
   "display_name": "Python",
   "language": "python",
   "name": "conda-env-python-py"
  },
  "language_info": {
   "codemirror_mode": {
    "name": "ipython",
    "version": 3
   },
   "file_extension": ".py",
   "mimetype": "text/x-python",
   "name": "python",
   "nbconvert_exporter": "python",
   "pygments_lexer": "ipython3",
   "version": "3.7.12"
  }
 },
 "nbformat": 4,
 "nbformat_minor": 5
}
